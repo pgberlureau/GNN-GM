{
 "cells": [
  {
   "cell_type": "code",
   "execution_count": 1,
   "metadata": {
    "colab": {
     "base_uri": "https://localhost:8080/"
    },
    "id": "nXfzIP7Gar3I",
    "outputId": "6518f973-baed-4550-dbc4-057db6a83b09"
   },
   "outputs": [
    {
     "name": "stdout",
     "output_type": "stream",
     "text": [
      "Requirement already satisfied: chess in /opt/miniconda3/lib/python3.12/site-packages (1.11.1)\n",
      "Requirement already satisfied: torch_geometric in /opt/miniconda3/lib/python3.12/site-packages (2.6.1)\n",
      "Requirement already satisfied: aiohttp in /opt/miniconda3/lib/python3.12/site-packages (from torch_geometric) (3.10.10)\n",
      "Requirement already satisfied: fsspec in /opt/miniconda3/lib/python3.12/site-packages (from torch_geometric) (2024.9.0)\n",
      "Requirement already satisfied: jinja2 in /opt/miniconda3/lib/python3.12/site-packages (from torch_geometric) (3.1.4)\n",
      "Requirement already satisfied: numpy in /opt/miniconda3/lib/python3.12/site-packages (from torch_geometric) (1.26.4)\n",
      "Requirement already satisfied: psutil>=5.8.0 in /opt/miniconda3/lib/python3.12/site-packages (from torch_geometric) (5.9.0)\n",
      "Requirement already satisfied: pyparsing in /opt/miniconda3/lib/python3.12/site-packages (from torch_geometric) (3.1.2)\n",
      "Requirement already satisfied: requests in /opt/miniconda3/lib/python3.12/site-packages (from torch_geometric) (2.32.3)\n",
      "Requirement already satisfied: tqdm in /opt/miniconda3/lib/python3.12/site-packages (from torch_geometric) (4.66.4)\n",
      "Requirement already satisfied: aiohappyeyeballs>=2.3.0 in /opt/miniconda3/lib/python3.12/site-packages (from aiohttp->torch_geometric) (2.4.3)\n",
      "Requirement already satisfied: aiosignal>=1.1.2 in /opt/miniconda3/lib/python3.12/site-packages (from aiohttp->torch_geometric) (1.3.1)\n",
      "Requirement already satisfied: attrs>=17.3.0 in /opt/miniconda3/lib/python3.12/site-packages (from aiohttp->torch_geometric) (23.1.0)\n",
      "Requirement already satisfied: frozenlist>=1.1.1 in /opt/miniconda3/lib/python3.12/site-packages (from aiohttp->torch_geometric) (1.4.1)\n",
      "Requirement already satisfied: multidict<7.0,>=4.5 in /opt/miniconda3/lib/python3.12/site-packages (from aiohttp->torch_geometric) (6.1.0)\n",
      "Requirement already satisfied: yarl<2.0,>=1.12.0 in /opt/miniconda3/lib/python3.12/site-packages (from aiohttp->torch_geometric) (1.15.4)\n",
      "Requirement already satisfied: MarkupSafe>=2.0 in /opt/miniconda3/lib/python3.12/site-packages (from jinja2->torch_geometric) (2.1.3)\n",
      "Requirement already satisfied: charset-normalizer<4,>=2 in /opt/miniconda3/lib/python3.12/site-packages (from requests->torch_geometric) (3.3.2)\n",
      "Requirement already satisfied: idna<4,>=2.5 in /opt/miniconda3/lib/python3.12/site-packages (from requests->torch_geometric) (3.7)\n",
      "Requirement already satisfied: urllib3<3,>=1.21.1 in /opt/miniconda3/lib/python3.12/site-packages (from requests->torch_geometric) (2.2.2)\n",
      "Requirement already satisfied: certifi>=2017.4.17 in /opt/miniconda3/lib/python3.12/site-packages (from requests->torch_geometric) (2024.8.30)\n",
      "Requirement already satisfied: propcache>=0.2.0 in /opt/miniconda3/lib/python3.12/site-packages (from yarl<2.0,>=1.12.0->aiohttp->torch_geometric) (0.2.0)\n"
     ]
    }
   ],
   "source": [
    "!pip install chess\n",
    "!pip install torch_geometric\n",
    "\n",
    "import copy\n",
    "from torch_geometric.data import Data\n",
    "from torch_geometric import nn\n",
    "from torch.nn.functional import one_hot\n",
    "from torch_geometric.data import InMemoryDataset\n",
    "from torch_geometric.transforms import BaseTransform\n",
    "from torch_geometric.loader import DataLoader\n",
    "from torch_geometric.nn import global_mean_pool\n",
    "import numpy as np\n",
    "import matplotlib.pyplot as plt\n",
    "import torch\n",
    "import pandas as pd\n",
    "import chess\n",
    "import chess.pgn as PGN\n",
    "import io\n",
    "from random import shuffle"
   ]
  },
  {
   "cell_type": "code",
   "execution_count": 2,
   "metadata": {
    "colab": {
     "base_uri": "https://localhost:8080/"
    },
    "id": "42elxgqlpYgE",
    "outputId": "785e6dea-e622-4ede-b4c2-c1a853b41fde"
   },
   "outputs": [
    {
     "name": "stdout",
     "output_type": "stream",
     "text": [
      "Using gpu: True \n"
     ]
    }
   ],
   "source": [
    "device = torch.device(\"cuda:0\" if torch.cuda.is_available() else \"cpu\")\n",
    "print('Using gpu: %s ' % torch.cuda.is_available())"
   ]
  },
  {
   "cell_type": "markdown",
   "metadata": {
    "id": "vLEfbGJ8ar3L"
   },
   "source": [
    "# Data loading"
   ]
  },
  {
   "cell_type": "markdown",
   "metadata": {
    "id": "o5uX19Lnn_Js"
   },
   "source": [
    "positions.csv can be found at https://www.kaggle.com/datasets/nikitricky/chess-positions"
   ]
  },
  {
   "cell_type": "code",
   "execution_count": 3,
   "metadata": {
    "colab": {
     "base_uri": "https://localhost:8080/"
    },
    "id": "u1Lcoje_ar3N",
    "outputId": "ffbde461-8bf4-4768-9c0f-265d4e18ee42"
   },
   "outputs": [
    {
     "name": "stderr",
     "output_type": "stream",
     "text": [
      "/tmp/ipykernel_5813/1683876990.py:1: DtypeWarning: Columns (12,13) have mixed types. Specify dtype option on import or set low_memory=False.\n",
      "  dataset = pd.read_csv(\"positions.csv\")\n"
     ]
    }
   ],
   "source": [
    "dataset = pd.read_csv(\"positions.csv\")\n",
    "dataset = dataset[['fen', 'score']]\n",
    "dataset = dataset[dataset['score'].notnull()]"
   ]
  },
  {
   "cell_type": "code",
   "execution_count": 4,
   "metadata": {
    "colab": {
     "base_uri": "https://localhost:8080/"
    },
    "id": "AXFIDT7FZaM7",
    "outputId": "bfdba582-7363-4b01-f126-939c0e3b521a"
   },
   "outputs": [
    {
     "data": {
      "text/plain": [
       "981566"
      ]
     },
     "execution_count": 4,
     "metadata": {},
     "output_type": "execute_result"
    }
   ],
   "source": [
    "len(dataset)"
   ]
  },
  {
   "cell_type": "markdown",
   "metadata": {
    "id": "x4zMHRNdar3T"
   },
   "source": [
    "# Preprocessing functions\n",
    "\n",
    "We use some of Saleh Awer's code that we slightly modified"
   ]
  },
  {
   "cell_type": "code",
   "execution_count": 5,
   "metadata": {
    "id": "7XOpCY6Yar3T"
   },
   "outputs": [],
   "source": [
    "def encode_piece_node(board,square):\n",
    "    \"\"\"\n",
    "    Returns one-hot encoding of a chess piece\n",
    "    \"\"\"\n",
    "    piece = board.piece_at(square)\n",
    "    color = 0\n",
    "    space = np.zeros(25)\n",
    "    space[13] = 1 if board.turn else -1\n",
    "    if board.turn == chess.WHITE:\n",
    "        space[14] = int(square//8)\n",
    "        space[15] = int(square%8)\n",
    "    else:\n",
    "        space[14] = int((63-square)//8)\n",
    "        space[15] = int((63-square)%8)\n",
    "    space[16] = 1 if board.is_repetition(2) else 0\n",
    "    space[17] = 1 if board.is_repetition(3) else 0\n",
    "    space[18] = board.fullmove_number\n",
    "    space[19] = board.halfmove_clock\n",
    "    space[20] = -1 if board.ep_square is None else board.ep_square % 8\n",
    "    if not board.has_kingside_castling_rights(chess.WHITE):\n",
    "        space[21] = 1\n",
    "    if not board.has_queenside_castling_rights(chess.WHITE):\n",
    "        space[22] = 1\n",
    "    if not board.has_kingside_castling_rights(chess.BLACK):\n",
    "        space[23] = 1\n",
    "    if not board.has_queenside_castling_rights(chess.BLACK):\n",
    "        space[24] = 1\n",
    "    if piece == None:\n",
    "        space[0] = 1\n",
    "        return torch.tensor(space,dtype=torch.float).view(-1, 25)\n",
    "    if piece.color != chess.WHITE:\n",
    "        color = 6\n",
    "    if piece.piece_type == chess.PAWN:\n",
    "        idx = 1\n",
    "    elif piece.piece_type == chess.BISHOP:\n",
    "        idx = 2\n",
    "    elif piece.piece_type == chess.KNIGHT:\n",
    "        idx = 3\n",
    "    elif piece.piece_type == chess.ROOK:\n",
    "        idx = 4\n",
    "    elif piece.piece_type == chess.QUEEN:\n",
    "        idx = 5\n",
    "    elif piece.piece_type == chess.KING:\n",
    "        idx = 6\n",
    "    space[idx+color] = 1\n",
    "    return torch.tensor(space,dtype=torch.long).view(-1, 25)\n",
    "\n",
    "\n",
    "def encode_move_edge(move):\n",
    "    \"\"\"\n",
    "    Returns the edge of move. The edge connection is defined by the squares\n",
    "    from and to which a move is legal.\n",
    "    \"\"\"\n",
    "    return [move.from_square, move.to_square]\n",
    "\n",
    "\n",
    "def board2graph(board: chess.Board, score):\n",
    "    \"\"\"\n",
    "    Encodes a chess board into a graph with the needed structure. Each square is a node. An edge implies a legal move from one square to the other.\n",
    "\n",
    "    Node features : 0 if square is empty, 1 for pawn, 2 for bishop, 3 for knight, 4 for rook, 5 for queen, 6 for king. One hot encoded.\n",
    "\n",
    "    Edge List: [from_square, to_square] for each legal move for both players.\n",
    "\n",
    "    Edge features: [1,0] for the current players moves, [0,0] for the opponent's legal moves and [1,n] or [0,n] for the previous n moves.\n",
    "    \"\"\"\n",
    "    # encode pieces\n",
    "    nodes = [i for i in range(64)]\n",
    "    node_features = [encode_piece_node(board, node) for node in nodes]\n",
    "\n",
    "    edge_list = []\n",
    "    edge_features = []\n",
    "\n",
    "    # encode side to move moves\n",
    "    for move in board.legal_moves:\n",
    "        edge_list.append(encode_move_edge(move))\n",
    "        edge_features.append([1,0,0])\n",
    "\n",
    "    # encode side not to move moves\n",
    "    opp_turn = copy.deepcopy(board)\n",
    "    opp_turn.turn = not opp_turn.turn\n",
    "    for move in opp_turn.legal_moves:\n",
    "        edge_list.append(encode_move_edge(move))\n",
    "        edge_features.append([0,0,0])\n",
    "\n",
    "    # encode side to move moves\n",
    "    moves_list = [encode_move_edge(move) for move in board.legal_moves]\n",
    "\n",
    "    # encode edge features\n",
    "    edge_features = [[1,0,0] if edge in moves_list else [0,0,0] for edge in edge_list]\n",
    "\n",
    "    # dictionary to keep track of move count\n",
    "    count_dict = {str(move)[:4]: 0 for move in board.legal_moves}\n",
    "\n",
    "    # handle promotions\n",
    "    for move in board.legal_moves:\n",
    "        if move.promotion is not None:\n",
    "            idxs = np.where(np.array(edge_list) == encode_move_edge(move))[0]\n",
    "            idx = idxs[count_dict[str(move)[:4]]]\n",
    "            edge_features[idx][2] = int(move.promotion)\n",
    "            count_dict[str(move)[:4]] += 1\n",
    "\n",
    "    count_dict = {str(move)[:4]: 0 for move in opp_turn.legal_moves}\n",
    "    for move in opp_turn.legal_moves:\n",
    "        if move.promotion is not None:\n",
    "            idxs = np.where(np.array(edge_list) == encode_move_edge(move))[0]\n",
    "            idx = idxs[count_dict[str(move)[:4]]]\n",
    "            edge_features[idx][2] = int(move.promotion)\n",
    "            count_dict[str(move)[:4]] += 1\n",
    "\n",
    "    y = torch.tensor(score).reshape(-1) #What the model should predict\n",
    "\n",
    "    return Data(x=torch.stack(node_features,dim=0).view(len(nodes), 25), edge_index=torch.tensor(edge_list, dtype=torch.int64).t().view(2, -1), edge_attr=torch.tensor(edge_features, dtype=torch.float), y=y.type(torch.float))\n",
    "        # return node_features, edge_list,edge_features"
   ]
  },
  {
   "cell_type": "code",
   "execution_count": 6,
   "metadata": {
    "colab": {
     "base_uri": "https://localhost:8080/"
    },
    "id": "r8QnNAQjn_Jv",
    "outputId": "1d1709bd-8917-405f-b213-76c340cef207"
   },
   "outputs": [
    {
     "name": "stderr",
     "output_type": "stream",
     "text": [
      "/tmp/ipykernel_5813/466869514.py:5: SettingWithCopyWarning: \n",
      "A value is trying to be set on a copy of a slice from a DataFrame.\n",
      "Try using .loc[row_indexer,col_indexer] = value instead\n",
      "\n",
      "See the caveats in the documentation: https://pandas.pydata.org/pandas-docs/stable/user_guide/indexing.html#returning-a-view-versus-a-copy\n",
      "  data_train['fen'] = data_train['fen'].apply(chess.Board)\n",
      "/tmp/ipykernel_5813/466869514.py:6: SettingWithCopyWarning: \n",
      "A value is trying to be set on a copy of a slice from a DataFrame.\n",
      "Try using .loc[row_indexer,col_indexer] = value instead\n",
      "\n",
      "See the caveats in the documentation: https://pandas.pydata.org/pandas-docs/stable/user_guide/indexing.html#returning-a-view-versus-a-copy\n",
      "  data_test['fen'] = data_test['fen'].apply(chess.Board)\n"
     ]
    }
   ],
   "source": [
    "train_size = 9*1e5\n",
    "test_size = 1e4\n",
    "data_train = dataset.loc[:train_size]\n",
    "data_test = dataset.loc[train_size:train_size + test_size]\n",
    "data_train['fen'] = data_train['fen'].apply(chess.Board)\n",
    "data_test['fen'] = data_test['fen'].apply(chess.Board)\n",
    "data_train = list(data_train.apply(lambda x: board2graph(*x), axis=1))\n",
    "data_test = list(data_test.apply(lambda x: board2graph(*x), axis=1))"
   ]
  },
  {
   "cell_type": "code",
   "execution_count": 7,
   "metadata": {
    "id": "TxEGZEBFn_Jw"
   },
   "outputs": [],
   "source": [
    "train_loader = DataLoader(data_train, batch_size=100, shuffle=True)\n",
    "test_loader = DataLoader(data_test, batch_size=100, shuffle=True)"
   ]
  },
  {
   "cell_type": "code",
   "execution_count": 8,
   "metadata": {
    "id": "RQt_Lt-fhdhz"
   },
   "outputs": [],
   "source": [
    "class Model1(torch.nn.Module):\n",
    "  def __init__(self, heads_nb):\n",
    "    super().__init__()\n",
    "    self.heads_nb = heads_nb\n",
    "    self.gat = nn.GATv2Conv(in_channels=-1, out_channels=1, heads=heads_nb, edge_dim=3)\n",
    "    self.lstm = torch.nn.LSTM(64, 64, batch_first=True)\n",
    "    self.linear = torch.nn.Linear(64, 1)\n",
    "\n",
    "  def forward(self, g, batch):\n",
    "    y = self.gat(x=g.x, edge_index=g.edge_index, edge_attr=g.edge_attr)\n",
    "    y = y.reshape((g.y.shape[0], self.heads_nb, 64))\n",
    "    _, (_,y) = self.lstm(y)\n",
    "    y = y.reshape((g.y.shape[0], -1))\n",
    "    y = self.linear(y).reshape(-1)\n",
    "    return y"
   ]
  },
  {
   "cell_type": "code",
   "execution_count": 9,
   "metadata": {
    "id": "XKHaq4MakoPh"
   },
   "outputs": [],
   "source": [
    "model = Model1(heads_nb=16)"
   ]
  },
  {
   "cell_type": "code",
   "execution_count": 10,
   "metadata": {
    "id": "Y_Ra_9IGh6uV"
   },
   "outputs": [],
   "source": [
    "criterion = torch.nn.MSELoss()\n",
    "optimizer = torch.optim.Adam(model.parameters(), lr=1e-3)"
   ]
  },
  {
   "cell_type": "code",
   "execution_count": 11,
   "metadata": {
    "id": "roMTdlLG8253"
   },
   "outputs": [],
   "source": [
    "def test_model(model, loader):\n",
    "  model.eval()\n",
    "  accuracy = 0\n",
    "  with torch.no_grad():\n",
    "    for sample in loader:\n",
    "      inputs, targets = sample.to(device), sample.y.to(device)\n",
    "      outputs = model(inputs, sample.batch)\n",
    "      outputs.reshape(-1)\n",
    "      targets.reshape(-1)\n",
    "      accuracy += torch.sum((torch.sign(outputs) == torch.sign(targets)))\n",
    "\n",
    "  return accuracy/test_size"
   ]
  },
  {
   "cell_type": "code",
   "execution_count": 12,
   "metadata": {
    "id": "vgdiDbmMk3eZ"
   },
   "outputs": [],
   "source": [
    "def train_model(model, train_loader, test_loader, num_epochs):\n",
    "  model.to(device)\n",
    "  model.train()\n",
    "  rloss_list = []\n",
    "  train_acc = []\n",
    "  test_acc = []\n",
    "\n",
    "  for epoch in range(num_epochs):\n",
    "    running_loss = 0.\n",
    "    train_accuracy = 0\n",
    "    test_accuracy = 0\n",
    "    for sample in train_loader:\n",
    "      inputs, targets = sample.to(device), sample.y.to(device)\n",
    "      outputs = model(inputs, sample.batch)\n",
    "      loss = criterion(outputs, targets)\n",
    "      optimizer.zero_grad()\n",
    "      loss.backward()\n",
    "      optimizer.step()\n",
    "      running_loss += loss.item()/train_size\n",
    "      train_accuracy += torch.sum(torch.sign(outputs) == torch.sign(targets))/train_size\n",
    "\n",
    "    print(\"Epoch: \"+str(epoch))\n",
    "    print(\"    Loss: \"+str(running_loss))\n",
    "    rloss_list.append(running_loss)\n",
    "    train_acc.append(train_accuracy)\n",
    "    test_acc.append(test_model(model, test_loader))\n",
    "    model.train()\n",
    "    running_loss = 0.\n",
    "\n",
    "  return rloss_list, train_acc, test_acc"
   ]
  },
  {
   "cell_type": "code",
   "execution_count": 13,
   "metadata": {
    "colab": {
     "base_uri": "https://localhost:8080/"
    },
    "id": "ZyYjohKzlkVI",
    "outputId": "d725a3c5-6469-4043-b215-4c04bc5616fd"
   },
   "outputs": [
    {
     "name": "stdout",
     "output_type": "stream",
     "text": [
      "Epoch: 0\n",
      "    Loss: 3503.5703385199677\n",
      "Epoch: 1\n",
      "    Loss: 2996.306973133674\n",
      "Epoch: 2\n",
      "    Loss: 2795.165847118061\n",
      "Epoch: 3\n",
      "    Loss: 2631.889939131949\n",
      "Epoch: 4\n",
      "    Loss: 2523.378625924473\n",
      "Epoch: 5\n",
      "    Loss: 2449.346072118059\n",
      "Epoch: 6\n",
      "    Loss: 2384.1761773480903\n",
      "Epoch: 7\n",
      "    Loss: 2331.7793870073756\n",
      "Epoch: 8\n",
      "    Loss: 2297.5302181293428\n",
      "Epoch: 9\n",
      "    Loss: 2263.156068376739\n"
     ]
    }
   ],
   "source": [
    "epochs = 10\n",
    "rloss_list, train_acc, test_acc = train_model(model, train_loader, test_loader, epochs)"
   ]
  },
  {
   "cell_type": "code",
   "execution_count": 14,
   "metadata": {
    "colab": {
     "base_uri": "https://localhost:8080/",
     "height": 830
    },
    "id": "d_wHfn00ZaNA",
    "outputId": "d9bb5486-00f3-4f9d-d8ba-52d0245dde89"
   },
   "outputs": [
    {
     "data": {
      "image/png": "[encoded data removed]",
      "text/plain": [
       "<Figure size 1000x1000 with 1 Axes>"
      ]
     },
     "metadata": {},
     "output_type": "display_data"
    }
   ],
   "source": [
    "plt.figure(figsize=(10,10))\n",
    "plt.plot(range(epochs), torch.Tensor(train_acc).cpu())\n",
    "plt.plot(range(epochs), torch.Tensor(test_acc).cpu())\n",
    "plt.show()"
   ]
  },
  {
   "cell_type": "code",
   "execution_count": 15,
   "metadata": {
    "id": "EycIM7XCn_Jz"
   },
   "outputs": [],
   "source": [
    "torch.save(model.state_dict(), 'model_weights.pth')"
   ]
  },
  {
   "cell_type": "code",
   "execution_count": 17,
   "metadata": {
    "id": "Qw1Gy1poZaNA"
   },
   "outputs": [
    {
     "ename": "ValueError",
     "evalue": "setting an array element with a sequence. The requested array has an inhomogeneous shape after 3 dimensions. The detected shape was (810921, 4, 2) + inhomogeneous part.",
     "output_type": "error",
     "traceback": [
      "\u001B[0;31m---------------------------------------------------------------------------\u001B[0m",
      "\u001B[0;31mValueError\u001B[0m                                Traceback (most recent call last)",
      "Cell \u001B[0;32mIn[17], line 1\u001B[0m\n\u001B[0;32m----> 1\u001B[0m data_train_np \u001B[38;5;241m=\u001B[39m np\u001B[38;5;241m.\u001B[39masarray(data_train)\n\u001B[1;32m      2\u001B[0m data_test_np \u001B[38;5;241m=\u001B[39m np\u001B[38;5;241m.\u001B[39masarray(data_test)\n",
      "\u001B[0;31mValueError\u001B[0m: setting an array element with a sequence. The requested array has an inhomogeneous shape after 3 dimensions. The detected shape was (810921, 4, 2) + inhomogeneous part."
     ]
    }
   ],
   "source": [
    "data_train_np = np.asarray(data_train)\n",
    "data_test_np = np.asarray(data_test)"
   ]
  },
  {
   "cell_type": "code",
   "execution_count": null,
   "metadata": {},
   "outputs": [],
   "source": [
    "data_train_np.shape"
   ]
  },
  {
   "cell_type": "code",
   "execution_count": null,
   "metadata": {},
   "outputs": [],
   "source": []
  },
  {
   "cell_type": "code",
   "execution_count": null,
   "metadata": {},
   "outputs": [],
   "source": []
  }
 ],
 "metadata": {
  "accelerator": "GPU",
  "colab": {
   "gpuType": "T4",
   "provenance": []
  },
  "kernelspec": {
   "display_name": "Python 3 (ipykernel)",
   "language": "python",
   "name": "python3"
  },
  "language_info": {
   "codemirror_mode": {
    "name": "ipython",
    "version": 3
   },
   "file_extension": ".py",
   "mimetype": "text/x-python",
   "name": "python",
   "nbconvert_exporter": "python",
   "pygments_lexer": "ipython3",
   "version": "3.12.2"
  }
 },
 "nbformat": 4,
 "nbformat_minor": 4
}
