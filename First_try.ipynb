{
  "cells": [
    {
      "cell_type": "code",
      "execution_count": 1,
      "metadata": {
        "colab": {
          "base_uri": "https://localhost:8080/"
        },
        "id": "nXfzIP7Gar3I",
        "outputId": "8346e3b8-84a0-4a28-8052-c079311e0cf8"
      },
      "outputs": [],
      "source": [
        "import copy\n",
        "from torch_geometric.data import Data\n",
        "from torch_geometric import nn\n",
        "from torch.nn.functional import one_hot\n",
        "from torch_geometric.data import OnDiskDataset, Dataset\n",
        "from torch_geometric.loader import DenseDataLoader\n",
        "import numpy as np\n",
        "import torch\n",
        "import pandas as pd\n",
        "import chess\n",
        "import chess.pgn as PGN\n",
        "import io\n",
        "from random import shuffle"
      ]
    },
    {
      "cell_type": "code",
      "execution_count": 2,
      "metadata": {
        "colab": {
          "base_uri": "https://localhost:8080/"
        },
        "id": "42elxgqlpYgE",
        "outputId": "523b2efe-46e9-413e-8ffe-c861f9b7cfeb"
      },
      "outputs": [
        {
          "name": "stdout",
          "output_type": "stream",
          "text": [
            "Using gpu: False \n"
          ]
        }
      ],
      "source": [
        "device = torch.device(\"cuda:0\" if torch.cuda.is_available() else \"cpu\")\n",
        "print('Using gpu: %s ' % torch.cuda.is_available())"
      ]
    },
    {
      "cell_type": "markdown",
      "metadata": {
        "id": "vLEfbGJ8ar3L"
      },
      "source": [
        "# Data loading"
      ]
    },
    {
      "cell_type": "markdown",
      "metadata": {},
      "source": [
        "positions.csv can be found at https://www.kaggle.com/datasets/nikitricky/chess-positions"
      ]
    },
    {
      "cell_type": "code",
      "execution_count": 3,
      "metadata": {
        "colab": {
          "base_uri": "https://localhost:8080/"
        },
        "id": "u1Lcoje_ar3N",
        "outputId": "d812add6-781f-4389-e008-4f658f82ea3f"
      },
      "outputs": [
        {
          "name": "stderr",
          "output_type": "stream",
          "text": [
            "/tmp/ipykernel_28277/3616640870.py:1: DtypeWarning: Columns (12,13) have mixed types. Specify dtype option on import or set low_memory=False.\n",
            "  dataset = pd.read_csv(\"positions.csv\")\n"
          ]
        }
      ],
      "source": [
        "dataset = pd.read_csv(\"positions.csv\")\n",
        "dataset = dataset[dataset['score'].notnull()]"
      ]
    },
    {
      "cell_type": "markdown",
      "metadata": {
        "id": "x4zMHRNdar3T"
      },
      "source": [
        "# Preprocessing functions\n",
        "\n",
        "We use some of Saleh Awer's code that we slightly modified"
      ]
    },
    {
      "cell_type": "code",
      "execution_count": 4,
      "metadata": {
        "id": "7XOpCY6Yar3T"
      },
      "outputs": [],
      "source": [
        "def encode_piece_node(board,square):\n",
        "    \"\"\"\n",
        "    Returns one-hot encoding of a chess piece\n",
        "    \"\"\"\n",
        "    piece = board.piece_at(square)\n",
        "    color = 0\n",
        "    space = np.zeros(25)\n",
        "    space[13] = 1 if board.turn else -1\n",
        "    if board.turn == chess.WHITE:\n",
        "        space[14] = int(square//8)\n",
        "        space[15] = int(square%8)\n",
        "    else:\n",
        "        space[14] = int((63-square)//8)\n",
        "        space[15] = int((63-square)%8)\n",
        "    space[16] = 1 if board.is_repetition(2) else 0\n",
        "    space[17] = 1 if board.is_repetition(3) else 0\n",
        "    space[18] = board.fullmove_number\n",
        "    space[19] = board.halfmove_clock\n",
        "    space[20] = -1 if board.ep_square is None else board.ep_square % 8\n",
        "    if not board.has_kingside_castling_rights(chess.WHITE):\n",
        "        space[21] = 1\n",
        "    if not board.has_queenside_castling_rights(chess.WHITE):\n",
        "        space[22] = 1\n",
        "    if not board.has_kingside_castling_rights(chess.BLACK):\n",
        "        space[23] = 1\n",
        "    if not board.has_queenside_castling_rights(chess.BLACK):\n",
        "        space[24] = 1\n",
        "    if piece == None:\n",
        "        space[0] = 1\n",
        "        return torch.tensor(space,dtype=torch.float).view(-1, 25)\n",
        "    if piece.color != chess.WHITE:\n",
        "        color = 6\n",
        "    if piece.piece_type == chess.PAWN:\n",
        "        idx = 1\n",
        "    elif piece.piece_type == chess.BISHOP:\n",
        "        idx = 2\n",
        "    elif piece.piece_type == chess.KNIGHT:\n",
        "        idx = 3\n",
        "    elif piece.piece_type == chess.ROOK:\n",
        "        idx = 4\n",
        "    elif piece.piece_type == chess.QUEEN:\n",
        "        idx = 5\n",
        "    elif piece.piece_type == chess.KING:\n",
        "        idx = 6\n",
        "    space[idx+color] = 1\n",
        "    return torch.tensor(space,dtype=torch.long).view(-1, 25)\n",
        "\n",
        "\n",
        "def encode_move_edge(move):\n",
        "    \"\"\"\n",
        "    Returns the edge of move. The edge connection is defined by the squares\n",
        "    from and to which a move is legal.\n",
        "    \"\"\"\n",
        "    return [move.from_square, move.to_square]\n",
        "\n",
        "\n",
        "def board2graph(board: chess.Board, score):\n",
        "    \"\"\"\n",
        "    Encodes a chess board into a graph with the needed structure. Each square is a node. An edge implies a legal move from one square to the other.\n",
        "\n",
        "    Node features : 0 if square is empty, 1 for pawn, 2 for bishop, 3 for knight, 4 for rook, 5 for queen, 6 for king. One hot encoded.\n",
        "\n",
        "    Edge List: [from_square, to_square] for each legal move for both players.\n",
        "\n",
        "    Edge features: [1,0] for the current players moves, [0,0] for the opponent's legal moves and [1,n] or [0,n] for the previous n moves.\n",
        "    \"\"\"\n",
        "    # encode pieces\n",
        "    nodes = [i for i in range(64)]\n",
        "    node_features = [encode_piece_node(board, node) for node in nodes]\n",
        "\n",
        "    edge_list = []\n",
        "    edge_features = []\n",
        "\n",
        "    # encode side to move moves\n",
        "    for move in board.legal_moves:\n",
        "        edge_list.append(encode_move_edge(move))\n",
        "        edge_features.append([1,0,0])\n",
        "\n",
        "    # encode side not to move moves\n",
        "    opp_turn = copy.deepcopy(board)\n",
        "    opp_turn.turn = not opp_turn.turn\n",
        "    for move in opp_turn.legal_moves:\n",
        "        edge_list.append(encode_move_edge(move))\n",
        "        edge_features.append([0,0,0])\n",
        "\n",
        "    # encode side to move moves\n",
        "    moves_list = [encode_move_edge(move) for move in board.legal_moves]\n",
        "\n",
        "    # encode edge features\n",
        "    edge_features = [[1,0,0] if edge in moves_list else [0,0,0] for edge in edge_list]\n",
        "\n",
        "    # dictionary to keep track of move count\n",
        "    count_dict = {str(move)[:4]: 0 for move in board.legal_moves}\n",
        "\n",
        "    # handle promotions\n",
        "    for move in board.legal_moves:\n",
        "        if move.promotion is not None:\n",
        "            idxs = np.where(np.array(edge_list) == encode_move_edge(move))[0]\n",
        "            idx = idxs[count_dict[str(move)[:4]]]\n",
        "            edge_features[idx][2] = int(move.promotion)\n",
        "            count_dict[str(move)[:4]] += 1\n",
        "\n",
        "    count_dict = {str(move)[:4]: 0 for move in opp_turn.legal_moves}\n",
        "    for move in opp_turn.legal_moves:\n",
        "        if move.promotion is not None:\n",
        "            idxs = np.where(np.array(edge_list) == encode_move_edge(move))[0]\n",
        "            idx = idxs[count_dict[str(move)[:4]]]\n",
        "            edge_features[idx][2] = int(move.promotion)\n",
        "            count_dict[str(move)[:4]] += 1\n",
        "\n",
        "    y = torch.tensor(score).reshape(-1) #What the model should predict\n",
        "\n",
        "    return Data(x=torch.stack(node_features,dim=0).view(len(nodes), 25), edge_index=torch.tensor(edge_list, dtype=torch.int64).t().view(2, -1), edge_attr=torch.tensor(edge_features, dtype=torch.float), y=y.type(torch.float))\n",
        "        # return node_features, edge_list,edge_features"
      ]
    },
    {
      "cell_type": "code",
      "execution_count": 5,
      "metadata": {
        "id": "RQt_Lt-fhdhz"
      },
      "outputs": [],
      "source": [
        "class Model(torch.nn.Module):\n",
        "  def __init__(self):\n",
        "    super().__init__()\n",
        "    self.gat = nn.GATv2Conv(in_channels=-1, out_channels=1, heads=3, edge_dim=3)\n",
        "    self.lstm = torch.nn.LSTM(64, 64)\n",
        "    self.linear = torch.nn.Linear(64, 1)\n",
        "\n",
        "  def forward(self, g):\n",
        "    y = self.gat(x=g.x, edge_index=g.edge_index, edge_attr=g.edge_attr).reshape((3, 64))\n",
        "    _ , (_,y) = self.lstm(y)\n",
        "    y = self.linear(y).reshape(-1)\n",
        "\n",
        "    return y"
      ]
    },
    {
      "cell_type": "code",
      "execution_count": 6,
      "metadata": {
        "id": "XKHaq4MakoPh"
      },
      "outputs": [],
      "source": [
        "model = Model()"
      ]
    },
    {
      "cell_type": "code",
      "execution_count": 7,
      "metadata": {
        "id": "Y_Ra_9IGh6uV"
      },
      "outputs": [],
      "source": [
        "criterion = torch.nn.MSELoss()\n",
        "optimizer = torch.optim.Adam(model.parameters(), lr=1e-3)"
      ]
    },
    {
      "cell_type": "code",
      "execution_count": 8,
      "metadata": {
        "id": "vgdiDbmMk3eZ"
      },
      "outputs": [],
      "source": [
        "def train_model(model, boards, num_epochs, batch_size=100):\n",
        "  model.to(device)\n",
        "  model.train()\n",
        "\n",
        "  for epoch in range(num_epochs):\n",
        "    targets_batch, outputs_batch = [], []\n",
        "    running_loss = 0.\n",
        "    n_data = 0\n",
        "    for i in boards.index:\n",
        "      sample = board2graph(chess.Board(boards['fen'][i]), boards['score'][i]) #We don't store preprocessed inputs since they take a lot of memoy\n",
        "\n",
        "      inputs, targets = sample.to(device), sample.y.to(device)\n",
        "      outputs = model(inputs)\n",
        "      targets_batch.append(targets)\n",
        "      outputs_batch.append(outputs)\n",
        "\n",
        "      if i%batch_size==0 and i>0: #Compute loss and backpropagate every batch_size prediction\n",
        "        targets = torch.stack(targets_batch).to(device)\n",
        "        outputs = torch.stack(outputs_batch).to(device)\n",
        "        loss = criterion(outputs, targets)\n",
        "        optimizer.zero_grad()\n",
        "        loss.backward()\n",
        "        optimizer.step()\n",
        "        running_loss += loss.item()\n",
        "        print(\"Epoch: \"+str(epoch)+\", currently at i = \"+str(i))\n",
        "        print(\"    Loss: \"+str(running_loss))\n",
        "        running_loss = 0.\n",
        "        targets_batch, outputs_batch = [], []"
      ]
    },
    {
      "cell_type": "code",
      "execution_count": 9,
      "metadata": {
        "id": "roMTdlLG8253"
      },
      "outputs": [],
      "source": [
        "def test_model(model, boards):\n",
        "  model.eval()\n",
        "  std = np.std(boards['score'])\n",
        "  accuracy = 0\n",
        "  with torch.no_grad():\n",
        "    for i in boards.index:\n",
        "      sample = board2graph(chess.Board(boards['fen'][i]), boards['score'][i])\n",
        "      inputs, targets = sample.to(device), sample.y.to(device)\n",
        "      outputs = model(inputs)\n",
        "      if outputs[0]*targets[0] >= 0:\n",
        "        accuracy += 1\n",
        "\n",
        "  return accuracy/len(boards)"
      ]
    },
    {
      "cell_type": "code",
      "execution_count": null,
      "metadata": {
        "colab": {
          "base_uri": "https://localhost:8080/",
          "height": 1000
        },
        "id": "ZyYjohKzlkVI",
        "outputId": "928e5145-66a1-49a4-946d-72eed90441fb"
      },
      "outputs": [],
      "source": [
        "train_model(model, dataset.loc[:1001], 100)"
      ]
    },
    {
      "cell_type": "code",
      "execution_count": 19,
      "metadata": {
        "colab": {
          "base_uri": "https://localhost:8080/",
          "height": 141
        },
        "id": "dOD8xc-L95Wd",
        "outputId": "f0d5be21-1a9e-4711-b847-8ed3a8d4c20d"
      },
      "outputs": [
        {
          "name": "stdout",
          "output_type": "stream",
          "text": [
            "0.9063157894736842\n"
          ]
        },
        {
          "data": {
            "text/plain": [
              "0.5910430839002268"
            ]
          },
          "execution_count": 19,
          "metadata": {},
          "output_type": "execute_result"
        }
      ],
      "source": [
        "print(test_model(model, dataset.loc[:1000]))\n",
        "test_model(model, dataset.loc[1000:11000])"
      ]
    },
    {
      "cell_type": "code",
      "execution_count": null,
      "metadata": {},
      "outputs": [],
      "source": []
    }
  ],
  "metadata": {
    "accelerator": "GPU",
    "colab": {
      "gpuType": "T4",
      "provenance": []
    },
    "kernelspec": {
      "display_name": "Python 3",
      "name": "python3"
    },
    "language_info": {
      "codemirror_mode": {
        "name": "ipython",
        "version": 3
      },
      "file_extension": ".py",
      "mimetype": "text/x-python",
      "name": "python",
      "nbconvert_exporter": "python",
      "pygments_lexer": "ipython3",
      "version": "3.10.12"
    }
  },
  "nbformat": 4,
  "nbformat_minor": 0
}
